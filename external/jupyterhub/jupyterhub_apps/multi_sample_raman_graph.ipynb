{
 "cells": [
  {
   "cell_type": "code",
   "execution_count": null,
   "metadata": {
    "collapsed": false,
    "deletable": true,
    "editable": true,
    "scrolled": true
   },
   "outputs": [],
   "source": [
    "import odr_env\n",
    "import json\n",
    "\n",
    "# Find all raman files in the provided datarecord list\n",
    "raman_files = {}\n",
    "for dr_id in _odr_datarecord_list:\n",
    "    # If this datarecord has files that have been uploaded to it...\n",
    "    file_list = odr_env.getFileList(dr_id)\n",
    "    if ( len(file_list) > 0 ):\n",
    "        dr_data = odr_env.getDatarecordData(dr_id)\n",
    "        dr_name = dr_data['datarecords'][0]['datarecord_name']\n",
    "        rruff_id = dr_data['datarecords'][0]['external_id']\n",
    "\n",
    "        datarecord_key = dr_name + ' ' + rruff_id\n",
    "\n",
    "        # Store file ids by name of parent datarecord\n",
    "        raman_files[datarecord_key] = {}\n",
    "\n",
    "        # Append all file ids to this list\n",
    "        for file_id, file_data in file_list.items():\n",
    "            # Organize by wavelength\n",
    "            filename = file_data['filename'].split('__')\n",
    "            file_type = filename[3]\n",
    "            raman_files[datarecord_key][file_type] = int(file_id)\n",
    "\n",
    "#print( json.dumps(raman_files, indent=4) )"
   ]
  },
  {
   "cell_type": "code",
   "execution_count": null,
   "metadata": {
    "collapsed": false,
    "deletable": true,
    "editable": true,
    "scrolled": false
   },
   "outputs": [],
   "source": [
    "from io import BytesIO\n",
    "import matplotlib.pyplot as plt\n",
    "import numpy as np\n",
    "\n",
    "for sample_name, files in raman_files.items():\n",
    "    # Create a new plot for this sample\n",
    "    fig = plt.figure(figsize=(10, 5), dpi=100)\n",
    "    lines = []\n",
    "    axis_num = 0\n",
    "    first_axis = ''\n",
    "    \n",
    "    # For each file the sample has...\n",
    "    current_axis = ''\n",
    "    for file_type in sorted(files):    # ensure '532' comes first\n",
    "        \n",
    "        if ( axis_num == 0 ):\n",
    "            # Do certain things if this is the first axis for the graph\n",
    "            first_axis = fig.add_subplot(111)\n",
    "            first_axis.set_ylabel('Intensity')\n",
    "            first_axis.set_xlabel('Raman Shift (cm-1)')\n",
    "            first_axis.get_yaxis().set_ticks([])    # clear tick marks\n",
    "        else:\n",
    "            # The rest of the graph axis should work with this?\n",
    "            current_axis = first_axis.twinx()\n",
    "            current_axis.yaxis.set_visible(False)    # don't display axis at all\n",
    "\n",
    "        # ...download the data for each file from ODR\n",
    "        file_data = odr_env.downloadFile( files[file_type] )\n",
    "        graph_data = np.genfromtxt(BytesIO(file_data), delimiter=\",\")    # convert bytes into array\n",
    "        \n",
    "        # Split the 2D array into 1D arrays for graphing\n",
    "        x1 = graph_data[:,0]    # for each sub-array, get the first element of the sub-array and make a new array out of them\n",
    "        y1 = graph_data[:,1]    # same as above, but with the second element instead\n",
    "        \n",
    "        # Need different colors, otherwise it'll just be a mess\n",
    "        line_color = 'C' + str(axis_num)\n",
    "        axis_num += 1\n",
    "\n",
    "        # Add the data to the plot\n",
    "        if ( axis_num == 1 ):    # first axis that's been drawn, second will have axis_num == 2 by now\n",
    "            line = first_axis.plot(x1, y1, color=line_color, label='unoriented (' + file_type + 'nm)')\n",
    "            lines.append( line[0] )    # line itself is a list, don't want lines to be a list of lists\n",
    "        else:\n",
    "            line = current_axis.plot(x1, y1, color=line_color, label='unoriented (' + file_type + 'nm)')\n",
    "            lines.append( line[0] )\n",
    "\n",
    "    # Add each line to the plot\n",
    "    labels = [line.get_label() for line in lines]\n",
    "    current_axis.legend(lines, labels, loc='upper left')    # only have the last axis apply a legend...will be overwritten otherwise\n",
    "    \n",
    "    plt.title(sample_name)\n",
    "    plt.show()"
   ]
  }
 ],
 "metadata": {
  "kernelspec": {
   "display_name": "Python 3",
   "language": "python",
   "name": "python3"
  },
  "language_info": {
   "codemirror_mode": {
    "name": "ipython",
    "version": 3
   },
   "file_extension": ".py",
   "mimetype": "text/x-python",
   "name": "python",
   "nbconvert_exporter": "python",
   "pygments_lexer": "ipython3",
   "version": "3.5.2"
  }
 },
 "nbformat": 4,
 "nbformat_minor": 2
}
